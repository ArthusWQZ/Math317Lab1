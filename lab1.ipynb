{
 "cells": [
  {
   "cell_type": "markdown",
   "metadata": {},
   "source": [
    "## **MATH 317 - Lab 1**\n",
    "\n",
    "> Arthus Wauquiez - McGill ID: 261 037 214\n",
    "\n",
    "### **Part 1**\n",
    "\n",
    "#### **Question 1**\n",
    "\n",
    "First, let's initialize the two functions `naivelog` and `mylog`. \\\n",
    "*`n` is now a parameter to make it easier for Question 2.*"
   ]
  },
  {
   "cell_type": "code",
   "execution_count": 19,
   "metadata": {},
   "outputs": [],
   "source": [
    "import math\n",
    "\n",
    "def naivelog(x, n = 15):\n",
    "    y = x\n",
    "    for i in range(n):\n",
    "        y = math.sqrt(y)\n",
    "    l = y-1\n",
    "    for i in range(n):\n",
    "        l = l*2\n",
    "    return l\n",
    "\n",
    "def mylog(x, n = 15):\n",
    "    z = x-1\n",
    "    for i in range(n):\n",
    "        z = z/(1+math.sqrt(1+z))\n",
    "    l = z\n",
    "    for i in range(n):\n",
    "        l = l*2\n",
    "    return l\n"
   ]
  },
  {
   "cell_type": "markdown",
   "metadata": {},
   "source": [
    "##### **`naivelog`** function\n",
    "\n",
    "`naivelog` works exactly as in the lecture notes. In fact, for $y \\in \\mathbb{R}, y \\approx 0$, we have: $$\\log(1+y) \\approx y$$ \n",
    "To compute $\\log(x)$ with $x \\in \\mathbb{R}$, we want to reduce $x$ into some $y$ small enough that we can use the aforementioned identity. In fact, we have, for any $x \\in \\mathbb{R}$:\n",
    "\n",
    "$$ \\log(x) = \\log( (\\sqrt{x})^2 ) = 2\\log (\\sqrt{x}) = 4\\log(\\sqrt{\\sqrt{x}}) = \\dots = 2^n \\log(1+y) \\approx 2^n \\cdot y$$\n",
    "\n",
    "where $1+y = \\sqrt[2^n]{x} \\Leftrightarrow y = \\sqrt[2^n]{x} - 1$.\n",
    "\n",
    "In the `naivelog` function, we have $n = $ `n`, which means the function will first divide `x` by 2 `n` times, then use the identity $log(\\sqrt[2^n]{x} ) = \\sqrt[2^n]{x}-1$ since, at this point, $\\sqrt[2^n]{x} \\approx 1 \\Leftrightarrow \\sqrt[2^n]{x}-1 \\approx 0$, and finally multiply the result by 2 `n` times to get a correct approximation of $\\log{x}$.\n",
    "\n",
    "Basically, this function applies this formula: \n",
    "\n",
    "$$\\log{x} = 2^n(\\sqrt[2^n]{x}-1)$$"
   ]
  },
  {
   "cell_type": "markdown",
   "metadata": {},
   "source": [
    "##### **`mylog`** function\n",
    "\n",
    "`mylog(x)` similarly aims to compute $\\log{x}$ but does it differently. In fact, instead of reducing x to 1 by successively applying square roots, it reduces $z = x-1$ to 0 by using the following formula:\n",
    "\n",
    "$$ z_{n+1} = \\frac{z_n}{1+\\sqrt{1+z_n}} $$\n",
    "\n",
    "with $z_0 = x - 1$. This also gives $z_n = \\sqrt[2^n]{x} - 1$.\n",
    "\n",
    "It then computes $\\log(\\sqrt[2^n]{x}) = log(z_n+1) \\approx z_n$ since, at this point, $\\sqrt[2^n]{x} = z_n \\approx 0$.\n",
    "\n",
    "Basically, this function applies the formula:\n",
    "\n",
    "$$ \\log{x} = 2^n \\cdot z_n$$"
   ]
  },
  {
   "cell_type": "markdown",
   "metadata": {},
   "source": [
    "##### The parameter **`n`**\n",
    "\n",
    "The role of the parameter `n` is crucial because it defines how many times we will by applying a square root to $x$ in the `naivelog` function or how many $z_n$ we will compute in the `mylog` function. It is important because the larger the value of `n`, the closer $\\sqrt[2^n]{x}$ to $1$ and the better the result of the approximation $\\log(\\sqrt[2^n]{x}) \\approx \\sqrt[2^n]{x}$, in theory. Question 2 will explain why practice makes it different."
   ]
  },
  {
   "cell_type": "markdown",
   "metadata": {},
   "source": [
    "#### **Question 2**\n",
    "\n",
    "Let's define a function that compares the output values of `naivelog(x)` and `mylog(x)` to the output values of `math.log(x)`, with: \\\n",
    "$x = 1,2,\\dots,14$ \\\n",
    "$n = 15,20,25,30,35$"
   ]
  },
  {
   "cell_type": "code",
   "execution_count": 20,
   "metadata": {},
   "outputs": [],
   "source": [
    "def test_log(only_mean = False, target_n=35):\n",
    "    for n in range(15,target_n+1,5):\n",
    "        naivelog_difference = [ (naivelog(x,n) - math.log(x)) for x in range(1,15) ]\n",
    "        if not only_mean: print(f\"n = {n} - Naivelog error: {naivelog_difference}\")\n",
    "        mylog_difference = [ (mylog(x,n) - math.log(x)) for x in range(1,15)]\n",
    "        if not only_mean: print(f\"n = {n} - Mylog error: {naivelog_difference}\")\n",
    "        print(f\"n = {n} - Naivelog mean error: {sum(naivelog_difference)/len(naivelog_difference) }\")\n",
    "        print(f\"n = {n} - Mylog mean error: {sum(mylog_difference)/len(mylog_difference) }\")"
   ]
  },
  {
   "cell_type": "markdown",
   "metadata": {},
   "source": [
    "Now, let's run the function and see how our two functions `naivelog` and `mylog` behave.\n",
    "\n",
    "The first code snippet only shows the means of the error of the two functions for each `n`.\\\n",
    "You can run the second code snippet if you want to see the detailed error comparison (value by value for $x = 1,2,\\dots,14$)."
   ]
  },
  {
   "cell_type": "code",
   "execution_count": 21,
   "metadata": {},
   "outputs": [
    {
     "name": "stdout",
     "output_type": "stream",
     "text": [
      "n = 15 - Naivelog mean error: 5.7895871430989144e-05\n",
      "n = 15 - Mylog mean error: 5.789587163515123e-05\n",
      "n = 20 - Naivelog mean error: 1.8092410326813507e-06\n",
      "n = 20 - Mylog mean error: 1.809206446981967e-06\n",
      "n = 25 - Naivelog mean error: 5.6575101056325194e-08\n",
      "n = 25 - Mylog mean error: 5.65376633605246e-08\n",
      "n = 30 - Naivelog mean error: -9.829053849402009e-08\n",
      "n = 30 - Mylog mean error: 1.7668023076313132e-09\n",
      "n = 35 - Naivelog mean error: -3.1296124727853147e-06\n",
      "n = 35 - Mylog mean error: 5.521334976523105e-11\n"
     ]
    }
   ],
   "source": [
    "test_log(True)"
   ]
  },
  {
   "cell_type": "code",
   "execution_count": 22,
   "metadata": {},
   "outputs": [
    {
     "name": "stdout",
     "output_type": "stream",
     "text": [
      "n = 15 - Naivelog error: [0.0, 7.33118048590331e-06, 1.8416787324726513e-05, 2.9324936239527588e-05, 3.9525343868307417e-05, 4.898774022832342e-05, 5.777956026009612e-05, 6.598158012716127e-05, 7.366796455210434e-05, 8.090243988068124e-05, 8.773867838307581e-05, 9.42217558885794e-05, 0.00010038965998360183, 0.00010627457281175978]\n",
      "n = 15 - Mylog error: [0.0, 7.33118048590331e-06, 1.8416787324726513e-05, 2.9324936239527588e-05, 3.9525343868307417e-05, 4.898774022832342e-05, 5.777956026009612e-05, 6.598158012716127e-05, 7.366796455210434e-05, 8.090243988068124e-05, 8.773867838307581e-05, 9.42217558885794e-05, 0.00010038965998360183, 0.00010627457281175978]\n",
      "n = 15 - Naivelog mean error: 5.7895871430989144e-05\n",
      "n = 15 - Mylog mean error: 5.789587163515123e-05\n",
      "n = 20 - Naivelog error: [0.0, 2.29147362529325e-07, 5.756008338853036e-07, 9.165054317694654e-07, 1.2352021940831293e-06, 1.5309469740820703e-06, 1.8055674024797241e-06, 2.0618413771877897e-06, 2.3020835393516847e-06, 2.5281527671339177e-06, 2.741836476971571e-06, 2.9445038207676077e-06, 3.1371150366332756e-06, 3.3208712406640473e-06]\n",
      "n = 20 - Mylog error: [0.0, 2.29147362529325e-07, 5.756008338853036e-07, 9.165054317694654e-07, 1.2352021940831293e-06, 1.5309469740820703e-06, 1.8055674024797241e-06, 2.0618413771877897e-06, 2.3020835393516847e-06, 2.5281527671339177e-06, 2.741836476971571e-06, 2.9445038207676077e-06, 3.1371150366332756e-06, 3.3208712406640473e-06]\n",
      "n = 20 - Naivelog mean error: 1.8092410326813507e-06\n",
      "n = 20 - Mylog mean error: 1.809206446981967e-06\n",
      "n = 25 - Naivelog error: [0.0, 9.355234920072064e-09, 1.9834087483516782e-08, 3.3611631033991785e-08, 3.7521363127623886e-08, 5.1541064305382633e-08, 5.142133319147035e-08, 6.531860785585764e-08, 6.947049735472888e-08, 7.667892010232435e-08, 8.570449416822612e-08, 9.069862150212771e-08, 9.541550793912279e-08, 1.0548005180410769e-07]\n",
      "n = 25 - Mylog error: [0.0, 9.355234920072064e-09, 1.9834087483516782e-08, 3.3611631033991785e-08, 3.7521363127623886e-08, 5.1541064305382633e-08, 5.142133319147035e-08, 6.531860785585764e-08, 6.947049735472888e-08, 7.667892010232435e-08, 8.570449416822612e-08, 9.069862150212771e-08, 9.541550793912279e-08, 1.0548005180410769e-07]\n",
      "n = 25 - Naivelog mean error: 5.6575101056325194e-08\n",
      "n = 25 - Mylog mean error: 5.65376633605246e-08\n",
      "n = 30 - Naivelog error: [0.0, 1.904654323148236e-09, -2.1858449161804572e-07, 3.809308646296472e-09, -2.0834779657086244e-07, 2.173874191768732e-08, -1.720960847162445e-07, 5.7139630804670105e-09, -1.9875040413452894e-07, -2.0644314258078111e-07, -1.7506582672410786e-07, 2.3643396129813254e-08, -8.339842638704908e-08, -1.7019143028207395e-07]\n",
      "n = 30 - Mylog error: [0.0, 1.904654323148236e-09, -2.1858449161804572e-07, 3.809308646296472e-09, -2.0834779657086244e-07, 2.173874191768732e-08, -1.720960847162445e-07, 5.7139630804670105e-09, -1.9875040413452894e-07, -2.0644314258078111e-07, -1.7506582672410786e-07, 2.3643396129813254e-08, -8.339842638704908e-08, -1.7019143028207395e-07]\n",
      "n = 30 - Naivelog mean error: -9.829053849402009e-08\n",
      "n = 30 - Mylog mean error: 1.7668023076313132e-09\n",
      "n = 35 - Naivelog error: [0.0, -1.4286068202862268e-06, -2.3643517035321082e-06, -2.8572136405724535e-06, -1.8772778502818e-06, -3.7929585237073127e-06, -2.5562818757318695e-06, -4.285820460747658e-06, -4.7287034070642164e-06, -3.3058846709010936e-06, -7.08920462066942e-06, -5.221565344104562e-06, -3.218170054886116e-07, -3.984888695907074e-06]\n",
      "n = 35 - Mylog error: [0.0, -1.4286068202862268e-06, -2.3643517035321082e-06, -2.8572136405724535e-06, -1.8772778502818e-06, -3.7929585237073127e-06, -2.5562818757318695e-06, -4.285820460747658e-06, -4.7287034070642164e-06, -3.3058846709010936e-06, -7.08920462066942e-06, -5.221565344104562e-06, -3.218170054886116e-07, -3.984888695907074e-06]\n",
      "n = 35 - Naivelog mean error: -3.1296124727853147e-06\n",
      "n = 35 - Mylog mean error: 5.521334976523105e-11\n"
     ]
    }
   ],
   "source": [
    "test_log() # RUN THIS TO GET DETAILED OUTPUT"
   ]
  },
  {
   "cell_type": "markdown",
   "metadata": {},
   "source": [
    "As we can see from the means:\n",
    "- For `naivelog`: the mean error decreases, which means we're getting a better approximation, until it reaches a point where the mean error goes back up. This can be explained because as `n` increases, $\\sqrt[2^n]{x}$ gets closer to $1$, but since this function uses the formula $\\log{x} = 2^n(\\sqrt[2^n]{x}-1)$, we have $\\sqrt[2^n]{x}-1 \\approx 0$ which causes **cancellation of digits**. This explains why we lose accuracy. The below code snippet (optional), shows that if we go up to `n = 50`, we see the mean error surging after `n = 35`.\n",
    "\n",
    "- For `mylog`: the mean error is similar to `naivelog` at the beginning, but as `n` increases, `mylog` becomes more and more precise and is not subject to cancellation of digits. This can be explained because the formula used for this function does not imply subtracting two relatively large numbers to get a smaller one, and then no loss of significant digits."
   ]
  },
  {
   "cell_type": "code",
   "execution_count": 23,
   "metadata": {},
   "outputs": [
    {
     "name": "stdout",
     "output_type": "stream",
     "text": [
      "n = 15 - Naivelog mean error: 5.7895871430989144e-05\n",
      "n = 15 - Mylog mean error: 5.789587163515123e-05\n",
      "n = 20 - Naivelog mean error: 1.8092410326813507e-06\n",
      "n = 20 - Mylog mean error: 1.809206446981967e-06\n",
      "n = 25 - Naivelog mean error: 5.6575101056325194e-08\n",
      "n = 25 - Mylog mean error: 5.65376633605246e-08\n",
      "n = 30 - Naivelog mean error: -9.829053849402009e-08\n",
      "n = 30 - Mylog mean error: 1.7668023076313132e-09\n",
      "n = 35 - Naivelog mean error: -3.1296124727853147e-06\n",
      "n = 35 - Mylog mean error: 5.521334976523105e-11\n",
      "n = 40 - Naivelog mean error: -9.141260633439246e-05\n",
      "n = 40 - Mylog mean error: 1.7262461301673478e-12\n",
      "n = 45 - Naivelog mean error: -0.00305597733847725\n",
      "n = 45 - Mylog mean error: 5.507499218586937e-14\n",
      "n = 50 - Naivelog mean error: -0.12080151305276297\n",
      "n = 50 - Mylog mean error: 3.2037864424897375e-15\n"
     ]
    }
   ],
   "source": [
    "test_log(True, 50)"
   ]
  },
  {
   "cell_type": "markdown",
   "metadata": {},
   "source": [
    "#### **Question 3**\n",
    "\n",
    "##### The **exponential** function\n",
    "\n",
    "To compute the exponential function, we will use the following formula:\n",
    "\n",
    "$$ e^x \\approx 1 + x + \\frac{x^2}{2} \\hspace{1cm} \\text{when} \\: x \\approx 0 $$\n",
    "\n",
    "Furthermore, we have:\n",
    "\n",
    "$$ e^x = (e^{\\frac{x}{2}})^2 = ((e^{\\frac{x}{4}})^2)^2 = \\dots $$\n",
    "\n",
    "Hence, we first successively divide $x$ `n` times by 2, then use the formula $ e^x \\approx 1 + x + \\frac{x^2}{2}$, then we square the result `n` times."
   ]
  },
  {
   "cell_type": "code",
   "execution_count": 24,
   "metadata": {},
   "outputs": [],
   "source": [
    "def exp_argred(x, n=15):\n",
    "    y = x\n",
    "    for i in range(n):\n",
    "        y = y/2\n",
    "    l = 1+y+(y**2)/2\n",
    "    for i in range(n):\n",
    "        l = l**2\n",
    "    return l"
   ]
  },
  {
   "cell_type": "code",
   "execution_count": 25,
   "metadata": {},
   "outputs": [],
   "source": [
    "def test_exp(n=14):\n",
    "    for i in range(n+1):\n",
    "        e = exp_argred(i, 15)\n",
    "        e_ = math.exp(i)\n",
    "        print(f\"For i = {i} - Our function gives: {e} - Error: {e - e_} - Rel error: {abs((e - e_ )/ e)}\")"
   ]
  },
  {
   "cell_type": "code",
   "execution_count": 26,
   "metadata": {},
   "outputs": [
    {
     "name": "stdout",
     "output_type": "stream",
     "text": [
      "For i = 0 - Our function gives: 1.0 - Error: 0.0 - Rel error: 0.0\n",
      "For i = 1 - Our function gives: 2.7182818280376577 - Error: -4.213873694425274e-10 - Rel error: 1.5501975001125224e-10\n",
      "For i = 2 - Our function gives: 7.3890560897484985 - Error: -9.18215192768912e-09 - Rel error: 1.2426691333996427e-09\n",
      "For i = 3 - Our function gives: 20.085536839033328 - Error: -8.415434038511194e-08 - Rel error: 4.189797915760468e-09\n",
      "For i = 4 - Our function gives: 54.598149490760484 - Error: -5.423837521334463e-07 - Rel error: 9.93410504187935e-09\n",
      "For i = 5 - Our function gives: 148.41315622367458 - Error: -2.8789020234398777e-06 - Rel error: 1.9397889625775918e-08\n",
      "For i = 6 - Our function gives: 403.428779968393 - Error: -1.3524342136861378e-05 - Rel error: 3.352349363355028e-08\n",
      "For i = 7 - Our function gives: 1096.6331000508558 - Error: -5.8377602726977784e-05 - Rel error: 5.323348595284107e-08\n",
      "For i = 8 - Our function gives: 2980.957750180244 - Error: -0.00023686148415436037 - Rel error: 7.945818223691312e-08\n",
      "For i = 9 - Our function gives: 8103.083010839313 - Error: -0.0009167360713036032 - Rel error: 1.1313423175812292e-07\n",
      "For i = 10 - Our function gives: 22026.462376677497 - Error: -0.003418129221245181 - Rel error: 1.5518285064534165e-07\n",
      "For i = 11 - Our function gives: 59874.129348392555 - Error: -0.012366805261990521 - Rel error: 2.065467238785416e-07\n",
      "For i = 12 - Our function gives: 162754.74777661377 - Error: -0.043642390141030774 - Rel error: 2.6814818453672016e-07\n",
      "For i = 13 - Our function gives: 442413.2411828984 - Error: -0.1508260220871307 - Rel error: 3.409166092856104e-07\n",
      "For i = 14 - Our function gives: 1202603.7721126531 - Error: -0.5120521236676723 - Rel error: 4.2578622780147584e-07\n"
     ]
    }
   ],
   "source": [
    "test_exp()"
   ]
  },
  {
   "cell_type": "markdown",
   "metadata": {},
   "source": [
    "We still keep a reasonable relative error."
   ]
  },
  {
   "cell_type": "markdown",
   "metadata": {},
   "source": [
    "##### The **sine** function\n",
    "\n",
    "To compute the sine function, we will use the following formula:\n",
    "\n",
    "$$ \\sin{y} \\approx y \\hspace{1cm} \\text{when} \\: y \\approx 0 $$\n",
    "\n",
    "Since we have the identity $\\sin{2 \\alpha} = 2\\sin{(\\alpha \\sqrt{1-\\sin^2{(\\alpha)}})}$, we can compute $\\sin{x}$ by setting:\n",
    "\n",
    "$$ y = \\frac{x}{2^n} \\hspace{1cm} s_0 = y, \\hspace{0.2cm} s_1 = 2s_0 \\sqrt{1-s_0^2}, \\hspace{0.1cm} \\dots $$\n",
    "\n",
    "and we have $\\sin{x} \\approx s_n$."
   ]
  },
  {
   "cell_type": "code",
   "execution_count": 27,
   "metadata": {},
   "outputs": [],
   "source": [
    "def sin_argred(x, n=15):\n",
    "    y = x\n",
    "    for i in range(n):\n",
    "        y = y/2\n",
    "    l = y\n",
    "    for i in range(n):\n",
    "        l = 2*l*math.sqrt(1-l**2)\n",
    "    return l"
   ]
  },
  {
   "cell_type": "code",
   "execution_count": 28,
   "metadata": {},
   "outputs": [],
   "source": [
    "def test_sin(n=14):\n",
    "    for i in range(n+1):\n",
    "        s = sin_argred(i/10, 15)\n",
    "        s_ = math.sin(i/10)\n",
    "        print(f\"For i = {i} - Our function gives: {s} - Error: {s - s_} - Rel error: {abs((s - s_ )/ s) if s != 0 else 0}\")"
   ]
  },
  {
   "cell_type": "code",
   "execution_count": 29,
   "metadata": {},
   "outputs": [
    {
     "name": "stdout",
     "output_type": "stream",
     "text": [
      "For i = 0 - Our function gives: 0.0 - Error: 0.0 - Rel error: 0\n",
      "For i = 1 - Our function gives: 0.0998334166469826 - Error: 1.544459005131671e-13 - Rel error: 1.5470361097556918e-12\n",
      "For i = 2 - Our function gives: 0.19866933079627824 - Error: 1.2170264795940966e-12 - Rel error: 6.1258900642398285e-12\n",
      "For i = 3 - Our function gives: 0.2955202066653433 - Error: 4.003741782554471e-12 - Rel error: 1.3548115128006927e-11\n",
      "For i = 4 - Our function gives: 0.38941834231780054 - Error: 9.15001407975069e-12 - Rel error: 2.3496618123558885e-11\n",
      "For i = 5 - Our function gives: 0.4794255386212304 - Error: 1.7027379506373563e-11 - Rel error: 3.551621291461076e-11\n",
      "For i = 6 - Our function gives: 0.5646424734227068 - Error: 2.7671420710362327e-11 - Rel error: 4.9006977003741526e-11\n",
      "For i = 7 - Our function gives: 0.6442176872784117 - Error: 4.072064907489903e-11 - Rel error: 6.320945524940357e-11\n",
      "For i = 8 - Our function gives: 0.7173560909548922 - Error: 5.5369375751013195e-11 - Rel error: 7.718534274562236e-11\n",
      "For i = 9 - Our function gives: 0.7833269096978219 - Error: 7.033851279203418e-11 - Rel error: 8.979458246770577e-11\n",
      "For i = 10 - Our function gives: 0.8414709848917623 - Error: 8.386580319097448e-11 - Rel error: 9.966571004437195e-11\n",
      "For i = 11 - Our function gives: 0.8912073601551475 - Error: 9.37120381294676e-11 - Rel error: 1.0515177759882231e-10\n",
      "For i = 12 - Our function gives: 0.9320390860644182 - Error: 9.719192117785269e-11 - Rel error: 1.0427880400193349e-10\n",
      "For i = 13 - Our function gives: 0.9635581855084152 - Error: 9.122225197444322e-11 - Rel error: 9.467228170171207e-11\n",
      "For i = 14 - Our function gives: 0.9854497300608532 - Error: 7.23930915214055e-11 - Rel error: 7.346198320733732e-11\n"
     ]
    }
   ],
   "source": [
    "test_sin()"
   ]
  },
  {
   "cell_type": "markdown",
   "metadata": {},
   "source": [
    "##### The **cosine** function\n",
    "\n",
    "To compute the cosine function, we will use the following formula:\n",
    "\n",
    "$$ \\cos{y} \\approx 1-\\frac{y^2}{2} \\hspace{1cm} \\text{when} \\: y \\approx 0 $$\n",
    "\n",
    "Since we have the identity $ \\cos{2 \\alpha} = 2cos^2{(\\alpha)} - 1$, we can compute $\\cos{x}$ by setting:\n",
    "\n",
    "$$ y = \\frac{x}{2^n} \\hspace{1cm} c_0 = 1-\\frac{y^2}{2}, \\hspace{0.2cm} c_1 = 2c_0^2 - 1, \\hspace{0.2cm} c_2 = 2c_1^2 - 1, \\hspace{0.1cm} \\dots $$\n",
    "\n",
    "and have $\\cos{x} \\approx c_n$.\n",
    "\n",
    "\n"
   ]
  },
  {
   "cell_type": "code",
   "execution_count": 30,
   "metadata": {},
   "outputs": [],
   "source": [
    "def cos_argred(x, n=15):\n",
    "    y = x\n",
    "    for i in range(n):\n",
    "        y = y/2\n",
    "    l = 1 - (y**2)/2\n",
    "    for i in range(n):\n",
    "        l = 2 * (l**2) - 1\n",
    "    return l"
   ]
  },
  {
   "cell_type": "code",
   "execution_count": 31,
   "metadata": {},
   "outputs": [],
   "source": [
    "def test_cos(n=14):\n",
    "    for i in range(n+1):\n",
    "        c = cos_argred(i/10, 15)\n",
    "        c_ = math.cos(i/10)\n",
    "        print(f\"For i = {i} - Our function gives: {c} - Error: {c - c_} - Rel error: {abs((c - c_ )/ c) if c != 0 else 0}\")"
   ]
  },
  {
   "cell_type": "code",
   "execution_count": 32,
   "metadata": {},
   "outputs": [
    {
     "name": "stdout",
     "output_type": "stream",
     "text": [
      "For i = 0 - Our function gives: 1.0 - Error: 0.0 - Rel error: 0.0\n",
      "For i = 1 - Our function gives: 0.9950041700172165 - Error: 4.739190706537499e-09 - Rel error: 4.762985773673187e-09\n",
      "For i = 2 - Our function gives: 0.9800665967032998 - Error: 1.8862058137614213e-08 - Rel error: 1.924569024295031e-08\n",
      "For i = 3 - Our function gives: 0.9553365313314963 - Error: 4.220589033820943e-08 - Rel error: 4.417908135407022e-08\n",
      "For i = 4 - Our function gives: 0.9210609518906665 - Error: -4.2112218601175755e-08 - Rel error: 4.572142431478806e-08\n",
      "For i = 5 - Our function gives: 0.8775825612954569 - Error: -5.949158943252542e-10 - Rel error: 6.779030493120328e-10\n",
      "For i = 6 - Our function gives: 0.8253356640077711 - Error: 4.9098092813615324e-08 - Rel error: 5.948863590263201e-08\n",
      "For i = 7 - Our function gives: 0.7648421824913814 - Error: -4.793107133416186e-09 - Rel error: 6.26679234375282e-09\n",
      "For i = 8 - Our function gives: 0.6967066610909758 - Error: -4.82561895998046e-08 - Rel error: 6.926328151397324e-08\n",
      "For i = 9 - Our function gives: 0.6216099915721256 - Error: 2.330146120499421e-08 - Rel error: 3.748566065687272e-08\n",
      "For i = 10 - Our function gives: 0.5403023037797887 - Error: -2.088351047646597e-09 - Rel error: 3.865152957959157e-09\n",
      "For i = 11 - Our function gives: 0.4535961061684195 - Error: -1.5257157814918543e-08 - Rel error: 3.3635998209503114e-08\n",
      "For i = 12 - Our function gives: 0.36235773138663174 - Error: -2.3090041878504053e-08 - Rel error: 6.372167578747542e-08\n",
      "For i = 13 - Our function gives: 0.2674988050918663 - Error: -2.353272104960169e-08 - Rel error: 8.797318194195267e-08\n",
      "For i = 14 - Our function gives: 0.16996712823635907 - Error: -1.466388196980084e-08 - Rel error: 8.627481161774415e-08\n"
     ]
    }
   ],
   "source": [
    "test_cos()"
   ]
  },
  {
   "cell_type": "markdown",
   "metadata": {},
   "source": [
    "#### **Question 4**\n",
    "\n",
    "To compute arctan, we will use the following identity seen in class:\n",
    "\n",
    "$$ \\arctan{x} + \\arctan{y} = \\arctan{\\frac{x+y}{1-xy}} $$\n",
    "\n",
    "By setting x = y, we get:\n",
    "\n",
    "$$ 2\\arctan{x} = \\arctan{\\frac{2x}{1-x^2}} \\iff \\arctan{x} = 2\\arctan{\\frac{\\sqrt{1+x^2}-1}{x}}$$\n",
    "\n",
    "Now, let $y_0 = x$, $y_1 = \\frac{\\sqrt{1+x^2}-1}{x}$ and $y_{k+1} = \\frac{\\sqrt{1+y_k^2}-1}{y_k}$. Hence:\n",
    "\n",
    "$$ \\arctan{x} = 2\\arctan{y_0} = 2(2\\arctan{y_1}) = \\dots = 2^n\\arctan{y_n} $$\n",
    "\n",
    "But since $y_n \\approx 0$, we have $\\arctan{y_n} \\approx y$. Hence:\n",
    "\n",
    "$$ \\arctan{x} \\approx 2^n \\cdot y_n $$"
   ]
  },
  {
   "cell_type": "code",
   "execution_count": 381,
   "metadata": {},
   "outputs": [],
   "source": [
    "def arctan_argred(x, n=15):\n",
    "    if x == 0: return 0\n",
    "    y = x\n",
    "    for i in range(n):\n",
    "        try:\n",
    "            y = (-1+math.sqrt(1+y**2))/y\n",
    "        except ZeroDivisionError:\n",
    "            return x\n",
    "    l = y\n",
    "    for i in range(n):\n",
    "        l = 2*l\n",
    "    return l"
   ]
  },
  {
   "cell_type": "code",
   "execution_count": 382,
   "metadata": {},
   "outputs": [],
   "source": [
    "def test_arctan(n=14):\n",
    "    for i in range(n+1):\n",
    "        at = arctan_argred(i, 15)\n",
    "        at_ = math.atan(i)\n",
    "        print(f\"For i = {i} - Our function gives: {at} - Error: {at - at_} - Rel error: {abs((at - at_ )/ at) if at != 0 else 0}\")"
   ]
  },
  {
   "cell_type": "code",
   "execution_count": 383,
   "metadata": {},
   "outputs": [
    {
     "name": "stdout",
     "output_type": "stream",
     "text": [
      "For i = 0 - Our function gives: 0 - Error: 0.0 - Rel error: 0\n",
      "For i = 1 - Our function gives: 0.7853981309471182 - Error: -3.2450330089695e-08 - Rel error: 4.131704521700717e-08\n",
      "For i = 2 - Our function gives: 1.1071486692981936 - Error: -4.8495896853850695e-08 - Rel error: 4.380251559584277e-08\n",
      "For i = 3 - Our function gives: 1.2490457602422165 - Error: -1.215603795401421e-08 - Rel error: 9.732259890667974e-09\n",
      "For i = 4 - Our function gives: 1.3258176524596474 - Error: -1.120838510892952e-08 - Rel error: 8.453941677526923e-09\n",
      "For i = 5 - Our function gives: 1.3734007352869746 - Error: -3.165804129956484e-08 - Rel error: 2.305084050573909e-08\n",
      "For i = 6 - Our function gives: 1.4056476635236461 - Error: 1.4143376247943706e-08 - Rel error: 1.0061821760148205e-08\n",
      "For i = 7 - Our function gives: 1.4288992226574695 - Error: -4.9533263268841665e-08 - Rel error: 3.4665330125045216e-08\n",
      "For i = 8 - Our function gives: 1.4464412637341721 - Error: -6.851396294749179e-08 - Rel error: 4.736726244286911e-08\n",
      "For i = 9 - Our function gives: 1.4601390824752465 - Error: -2.3145754424191978e-08 - Rel error: 1.5851746386347662e-08\n",
      "For i = 10 - Our function gives: 1.4711276689312844 - Error: -5.37245026244193e-09 - Rel error: 3.6519265974684584e-09\n",
      "For i = 11 - Our function gives: 1.4801364344597927 - Error: -5.134358715963572e-09 - Rel error: 3.4688415178682265e-09\n",
      "For i = 12 - Our function gives: 1.4876551100336837 - Error: 1.512722835883551e-08 - Rel error: 1.016850495575752e-08\n",
      "For i = 13 - Our function gives: 1.4940243914583116 - Error: -4.406680709223565e-08 - Rel error: 2.9495373264436602e-08\n",
      "For i = 14 - Our function gives: 1.4994888604492933 - Error: -1.5603129899233181e-09 - Rel error: 1.040563241967533e-09\n"
     ]
    }
   ],
   "source": [
    "test_arctan()"
   ]
  },
  {
   "cell_type": "markdown",
   "metadata": {},
   "source": [
    "### **Part 2**\n",
    "\n",
    "#### **Question 1**\n",
    "\n",
    "First, we reduce the argument from a general value to a value between $0$ and $\\frac{\\pi}{2}$ by using the following formulas:\n",
    "\n",
    "$$ \\tan{-x} = -\\tan{x} \\newline \\tan{(x+\\frac{\\pi}{2})} = -\\frac{1}{\\tan{x}} $$\n",
    "\n",
    "Then, let $\\theta$ be the reduced value. We can compute $\\tan{\\theta}$ by writing $\\theta$ in terms of $\\arctan{10^{-i}}$ with $0 \\leq i \\leq n$. This gives:\n",
    "\n",
    "$$ \\theta = k_0\\arctan{1} + k_1\\arctan{0.1}+ \\dots + k_n\\arctan{10^{-n}}+\\theta_0 \\hspace{0.5cm} \\text{where} \\hspace{0.2cm} \\theta_0 \\approx 0$$\n",
    "\n",
    "We then take $x_0 = 1$ and $y_0 = \\theta_0 \\approx 0$ and use pseudo-rotation, meaning we rotate $k_n$ times using the following formula:\n",
    "\n",
    "$$ \\begin{cases} x_{n+1} = x_n - 10^{-n} y_n \\\\ y_{n+1} = y_n + 10^{-n} x_n  \\end{cases}$$\n",
    "\n",
    "The value of $\\tan{\\theta}$ is given by: $\\tan{\\theta} = \\frac{y_n}{x_n} $"
   ]
  },
  {
   "cell_type": "code",
   "execution_count": 402,
   "metadata": {},
   "outputs": [],
   "source": [
    "def cordic_tan(angle, n=15):\n",
    "\n",
    "    # ARGUMENT REDUCTION\n",
    "    z = angle\n",
    "    factor = 1\n",
    "    inverse = False\n",
    "\n",
    "    if z < 0:\n",
    "        z *= -1\n",
    "        factor *= -1\n",
    "    z = z % math.pi\n",
    "    if z > math.pi/2:\n",
    "        z -= math.pi/2\n",
    "        inverse = True\n",
    "        factor *= -1\n",
    "\n",
    "    #K = [math.atan(10**(-i)) for i in range(n)]\n",
    "    K = [arctan_argred(10**(-i)) for i in range(n)]\n",
    "\n",
    "    x = 1\n",
    "    y = 0\n",
    "\n",
    "    for i in range(n):\n",
    "        k = z // K[i]\n",
    "        z = z % K[i]\n",
    "        \n",
    "        \n",
    "        for j in range(int(k)):\n",
    "            x_new = x - 10**(-i) * y\n",
    "            y_new = y + 10**(-i) * x\n",
    "\n",
    "            x, y = x_new, y_new\n",
    "\n",
    "    tan = factor * y/x\n",
    "    if inverse: tan = 1/tan\n",
    "\n",
    "    return tan"
   ]
  },
  {
   "cell_type": "code",
   "execution_count": 403,
   "metadata": {},
   "outputs": [],
   "source": [
    "def test_cordic_tan(n=14):\n",
    "    for j in range(n+1):\n",
    "        i = j/10\n",
    "        t = cordic_tan(i, 15)\n",
    "        t_ = math.tan(i)\n",
    "        print(f\"For i = {i} - Our function gives: {t} - Error: {t - t_} - Rel error: {abs((t - t_ )/ t) if t != 0 else 0}\")"
   ]
  },
  {
   "cell_type": "code",
   "execution_count": 404,
   "metadata": {},
   "outputs": [
    {
     "name": "stdout",
     "output_type": "stream",
     "text": [
      "For i = 0.0 - Our function gives: 0.0 - Error: 0.0 - Rel error: 0\n",
      "For i = 0.1 - Our function gives: 0.10033470851857006 - Error: 3.643311950740635e-08 - Rel error: 3.631158155072855e-07\n",
      "For i = 0.2 - Our function gives: 0.2027101106130063 - Error: 7.51043338076407e-08 - Rel error: 3.7050117322969803e-07\n",
      "For i = 0.3 - Our function gives: 0.30936971084902015 - Error: 3.34612393969036e-05 - Rel error: 0.00010815939060444571\n",
      "For i = 0.4 - Our function gives: 0.4228292593485677 - Error: 3.604061040590745e-05 - Rel error: 8.523679383359952e-05\n",
      "For i = 0.5 - Our function gives: 0.5463422370535358 - Error: 3.9747209745311096e-05 - Rel error: 7.275148624728475e-05\n",
      "For i = 0.6 - Our function gives: 0.6842264763706889 - Error: 8.966802899657011e-05 - Rel error: 0.00013105021815611715\n",
      "For i = 0.7 - Our function gives: 0.8423928562706802 - Error: 0.00010447580760075681 - Rel error: 0.00012402266569932346\n",
      "For i = 0.8 - Our function gives: 1.0298844361273762 - Error: 0.0002458790770121233 - Rel error: 0.00023874433711872596\n",
      "For i = 0.9 - Our function gives: 1.2605459772719652 - Error: 0.0003877597216259687 - Rel error: 0.0003076125176053843\n",
      "For i = 1.0 - Our function gives: 1.5579211164440168 - Error: 0.0005133917891144701 - Rel error: 0.0003295364468043775\n",
      "For i = 1.1 - Our function gives: 1.9654883005478134 - Error: 0.0007286432991611136 - Rel error: 0.0003707187160351089\n",
      "For i = 1.2 - Our function gives: 2.5735257253144943 - Error: 0.0013741031881755461 - Rel error: 0.0005339380036730061\n",
      "For i = 1.3 - Our function gives: 3.60462487330601 - Error: 0.0025224253380313755 - Rel error: 0.000699774713510733\n",
      "For i = 1.4 - Our function gives: 5.804135316101056 - Error: 0.006251600618169206 - Rel error: 0.0010770942229459833\n"
     ]
    }
   ],
   "source": [
    "test_cordic_tan()"
   ]
  },
  {
   "cell_type": "markdown",
   "metadata": {},
   "source": [
    "We get a really small relative error."
   ]
  },
  {
   "cell_type": "markdown",
   "metadata": {},
   "source": [
    "#### **Question 2**\n",
    "\n",
    "For both **sine** and **cosine** function, we will use the following rotation formula:\n",
    "\n",
    "$$ \\begin{cases} x' = x\\cos{\\alpha} - y\\sin{\\alpha}  \\\\ y' = y\\cos{\\alpha} + x\\sin{\\alpha}   \\end{cases} $$"
   ]
  },
  {
   "cell_type": "markdown",
   "metadata": {},
   "source": [
    "##### The **sine** function\n",
    "\n",
    "Since we have a function to compute $\\tan{\\theta}$, we can use the following identities to compute $\\sin{\\theta}$:\n",
    "\n",
    "$$ \\sin^2{\\theta} + \\cos^2{\\theta} = 1 \\\\ \\tan{\\theta} = \\frac{\\sin{\\theta}}{\\cos{\\theta}} $$\n",
    "\n",
    "By squaring both sides of the second identity and plugging $\\cos^2{\\theta} = 1 - \\sin^2{\\theta}$ from the first identity, we get:\n",
    "\n",
    "$$ \\tan^2{\\theta} = \\frac{\\sin^2{\\theta}}{1 - \\sin^2{\\theta}} \\iff \\sin^2{\\theta} = \\frac{\\tan^2{\\theta}}{1+\\tan^2{\\theta}}$$\n",
    "\n",
    "This formula does not give the sign of $\\sin{\\theta}$ but we can predict it since we know $\\theta$."
   ]
  },
  {
   "cell_type": "code",
   "execution_count": 405,
   "metadata": {},
   "outputs": [],
   "source": [
    "def cordic_sin(angle, n=15):\n",
    "\n",
    "    # ARGUMENT REDUCTION\n",
    "    z = angle\n",
    "    factor = 1\n",
    "\n",
    "    z = z % (2*math.pi)\n",
    "    if z < 0: \n",
    "        z *= -1\n",
    "        factor *= -1\n",
    "    if z > math.pi:\n",
    "        factor *=-1\n",
    "        z -= math.pi\n",
    "\n",
    "    tan = cordic_tan(angle, n)\n",
    "\n",
    "    sin = math.sqrt(tan**2/(1+tan**2))\n",
    "    sin *= factor\n",
    "\n",
    "    return sin\n"
   ]
  },
  {
   "cell_type": "code",
   "execution_count": 406,
   "metadata": {},
   "outputs": [],
   "source": [
    "def test_cordic_sin(n=14):\n",
    "    for j in range(n+1):\n",
    "        i = j/10\n",
    "        s = cordic_sin(i, 15)\n",
    "        s_ = math.sin(i)\n",
    "        print(f\"For i = {i} - Our function gives: {s} - Error: {s - s_} - Rel error: {abs((s - s_ )/ s) if s != 0 else 0}\")"
   ]
  },
  {
   "cell_type": "code",
   "execution_count": 407,
   "metadata": {},
   "outputs": [
    {
     "name": "stdout",
     "output_type": "stream",
     "text": [
      "For i = 0.0 - Our function gives: 0.0 - Error: 0.0 - Rel error: 0\n",
      "For i = 0.1 - Our function gives: 0.09983345253662933 - Error: 3.58898011726394e-08 - Rel error: 3.594967444351509e-07\n",
      "For i = 0.2 - Our function gives: 0.19866940149706563 - Error: 7.070200441772201e-08 - Rel error: 3.55877673587124e-07\n",
      "For i = 0.3 - Our function gives: 0.2955493812651299 - Error: 2.9174603790371734e-05 - Rel error: 9.871312761842641e-05\n",
      "For i = 0.4 - Our function gives: 0.38944650336157816 - Error: 2.8161052927633268e-05 - Rel error: 7.231045261558656e-05\n",
      "For i = 0.5 - Our function gives: 0.4794524019255481 - Error: 2.6863321345105273e-05 - Rel error: 5.602917252519417e-05\n",
      "For i = 0.6 - Our function gives: 0.5646928817076805 - Error: 5.040831264513379e-05 - Rel error: 8.926677540665053e-05\n",
      "For i = 0.7 - Our function gives: 0.6442644282061671 - Error: 4.674096847612219e-05 - Rel error: 7.254935462798033e-05\n",
      "For i = 0.8 - Our function gives: 0.7174392273544569 - Error: 8.313645493407407e-05 - Rel error: 0.00011587943865383291\n",
      "For i = 0.9 - Our function gives: 0.7834200190463653 - Error: 9.310941888185376e-05 - Rel error: 0.00011884993568991661\n",
      "For i = 1.0 - Our function gives: 0.8415519330351867 - Error: 8.094822729021178e-05 - Rel error: 9.618922387624912e-05\n",
      "For i = 1.1 - Our function gives: 0.8912753322285665 - Error: 6.797216713105847e-05 - Rel error: 7.626393850831619e-05\n",
      "For i = 1.2 - Our function gives: 0.9321044185430624 - Error: 6.533257583607455e-05 - Rel error: 7.009147745291611e-05\n",
      "For i = 1.3 - Our function gives: 0.9636064202289811 - Error: 4.823481178817257e-05 - Rel error: 5.005654878960911e-05\n",
      "For i = 1.4 - Our function gives: 0.9854803781500289 - Error: 3.064816156872485e-05 - Rel error: 3.109971770950775e-05\n"
     ]
    }
   ],
   "source": [
    "test_cordic_sin()"
   ]
  },
  {
   "cell_type": "markdown",
   "metadata": {},
   "source": [
    "##### The **cosine** function\n",
    "\n",
    "Using the formula we used for **sine**, since $\\tan{\\theta}=\\frac{\\sin{\\theta}}{\\cos{\\theta}}$, we have:\n",
    "\n",
    "$$ \\cos{\\theta} = \\frac{\\sin{\\theta}}{\\tan{\\theta}} \\iff \\cos^2{\\theta} = \\frac{1}{1+\\tan^2{\\theta}} $$\n",
    "\n",
    "Similarly, this formula does not give the sign of $\\cos{\\theta}$ but we can predict it since we know $\\theta$."
   ]
  },
  {
   "cell_type": "code",
   "execution_count": 408,
   "metadata": {},
   "outputs": [],
   "source": [
    "def cordic_cos(angle, n=15):\n",
    "\n",
    "    # ARGUMENT REDUCTION\n",
    "    z = angle\n",
    "    factor = 1\n",
    "\n",
    "    z = z % (2*math.pi)\n",
    "    if z < 0: z *= -1\n",
    "    if z > 1/2*math.pi and z < 3/2*math.pi:\n",
    "        z -= math.pi\n",
    "        factor *= -1\n",
    "\n",
    "    tan = cordic_tan(angle, n)\n",
    "\n",
    "    cos = math.sqrt(1/(1+tan**2))\n",
    "    cos *= factor\n",
    "\n",
    "    return cos\n"
   ]
  },
  {
   "cell_type": "code",
   "execution_count": 409,
   "metadata": {},
   "outputs": [],
   "source": [
    "def test_cordic_cos(n=14):\n",
    "    for j in range(n+1):\n",
    "        i = j/10\n",
    "        c = cordic_cos(i, 15)\n",
    "        c_ = math.cos(i)\n",
    "        print(f\"For i = {i} - Our function gives: {c} - Error: {c - c_} - Rel error: {abs((c - c_ )/ c) if c != 0 else 0}\")"
   ]
  },
  {
   "cell_type": "code",
   "execution_count": 410,
   "metadata": {},
   "outputs": [
    {
     "name": "stdout",
     "output_type": "stream",
     "text": [
      "For i = 0.0 - Our function gives: 1.0 - Error: 0.0 - Rel error: 0.0\n",
      "For i = 0.1 - Our function gives: 0.9950041616770336 - Error: -3.6009921711155357e-09 - Rel error: 3.619072472065071e-09\n",
      "For i = 0.2 - Our function gives: 0.9800665635092332 - Error: -1.4332008468898039e-08 - Rel error: 1.4623505180689717e-08\n",
      "For i = 0.3 - Our function gives: 0.9553274638749788 - Error: -9.025250627181514e-06 - Rel error: 9.447284798631755e-06\n",
      "For i = 0.4 - Our function gives: 0.9210490871932072 - Error: -1.1906809677886265e-05 - Rel error: 1.292744311182254e-05\n",
      "For i = 0.5 - Our function gives: 0.8775678858571698 - Error: -1.4676033202931649e-05 - Rel error: 1.672353038374546e-05\n",
      "For i = 0.6 - Our function gives: 0.8253011264675916 - Error: -3.448844208675528e-05 - Rel error: 4.178891919652504e-05\n",
      "For i = 0.7 - Our function gives: 0.764802815468262 - Error: -3.9371816226485556e-05 - Rel error: 5.1479695720497014e-05\n",
      "For i = 0.8 - Our function gives: 0.6966210986275394 - Error: -8.561071962598366e-05 - Rel error: 0.00012289423876860915\n",
      "For i = 0.9 - Our function gives: 0.6214926176209921 - Error: -0.000117350649672332 - Rel error: 0.00018882066551576728\n",
      "For i = 1.0 - Our function gives: 0.540176215697008 - Error: -0.00012609017113174303 - Rel error: 0.00023342414469145875\n",
      "For i = 1.1 - Our function gives: 0.4534625476936971 - Error: -0.00013357373188022104 - Rel error: 0.00029456397790638897\n",
      "For i = 1.2 - Our function gives: 0.3621896643093225 - Error: -0.00016809016735114257 - Rel error: 0.0004640943238170037\n",
      "For i = 1.3 - Our function gives: 0.26732502107638234 - Error: -0.0001738075482050072 - Rel error: 0.0006501731394434098\n",
      "For i = 1.4 - Our function gives: 0.16978935267347076 - Error: -0.00017779022677028022 - Rel error: 0.001047122354675539\n"
     ]
    }
   ],
   "source": [
    "test_cordic_cos()"
   ]
  },
  {
   "cell_type": "markdown",
   "metadata": {},
   "source": [
    "#### **Question 3**\n",
    "\n",
    "To compute $\\arctan{x} = \\theta$, we will use the method used in class. We will decompose $\\theta$ in pre-computed values of $\\arctan$:\n",
    "\n",
    "$$ \\theta = k_0 \\alpha_0 + k_1 \\alpha_1 + k_2 \\alpha_2 + \\dots + k_n \\alpha_n + \\theta_0 \\hspace{0.5cm} \\text{where} \\hspace{0.2cm} \\begin{cases} \n",
    "\\theta_0 \\approx 0 \\\\\n",
    "\\alpha_i = \\arctan{10^{-i}} \\end{cases}$$\n",
    "\n",
    "In practice, we will see how many $\\arctan{1} = 45°$ we can fit in $\\arctan{x} = \\theta$, then how many $\\arctan{0.1}$ can fit on the space we have left, and so on. <br>\n",
    "This will give us the values of $k_i$ and we will be able to compute $\\theta$."
   ]
  },
  {
   "cell_type": "code",
   "execution_count": 411,
   "metadata": {},
   "outputs": [],
   "source": [
    "def cordic_arctan(y0, n=15):\n",
    "\n",
    "    K = [arctan_argred(10**(-i)) for i in range(n)]\n",
    "\n",
    "    x = 1\n",
    "    y = y0\n",
    "    angle = 0\n",
    "    factor = 1\n",
    "\n",
    "    if y < 0: # Transform arctan(-x) to -arctan(x)\n",
    "        y *= -1\n",
    "        factor *= -1\n",
    "\n",
    "    for i in range(n):\n",
    "        while (y - 10**(-i) * x) > 0: # We fit as many arctan(10^-i) as we can\n",
    "            x_new = x + 10**(-i) * y\n",
    "            y_new = y - 10**(-i) * x\n",
    "\n",
    "            x, y = x_new, y_new\n",
    "\n",
    "            angle += K[i]\n",
    "\n",
    "    return angle*factor"
   ]
  },
  {
   "cell_type": "code",
   "execution_count": 412,
   "metadata": {},
   "outputs": [],
   "source": [
    "def test_cordic_arctan(n=14):\n",
    "    for j in range(n+1):\n",
    "        i = j\n",
    "        at = cordic_arctan(i, 15)\n",
    "        at_ = math.atan(i)\n",
    "        print(f\"For i = {i} - Our function gives: {at} - Error: {at - at_} - Rel error: {abs((at - at_ )/ at) if at != 0 else 0}\")"
   ]
  },
  {
   "cell_type": "code",
   "execution_count": 413,
   "metadata": {},
   "outputs": [
    {
     "name": "stdout",
     "output_type": "stream",
     "text": [
      "For i = 0 - Our function gives: 0 - Error: 0.0 - Rel error: 0\n",
      "For i = 1 - Our function gives: 0.7852042520697334 - Error: -0.00019391132771484632 - Rel error: 0.0002469565430952674\n",
      "For i = 2 - Our function gives: 1.1070925548012018 - Error: -5.61629928885754e-05 - Rel error: 5.07301694379658e-05\n",
      "For i = 3 - Our function gives: 1.2489383896602606 - Error: -0.00010738273799382192 - Rel error: 8.597921153102872e-05\n",
      "For i = 4 - Our function gives: 1.3257662671879122 - Error: -5.1396480120313726e-05 - Rel error: 3.876737656731227e-05\n",
      "For i = 5 - Our function gives: 1.3731460343196673 - Error: -0.000254732625348586 - Rel error: 0.00018551022176952552\n",
      "For i = 6 - Our function gives: 1.4055913781727085 - Error: -5.627120756135362e-05 - Rel error: 4.003383090931242e-05\n",
      "For i = 7 - Our function gives: 1.4287565481574738 - Error: -0.00014272403325898964 - Rel error: 9.989387866186632e-05\n",
      "For i = 8 - Our function gives: 1.4463643078596213 - Error: -7.702438851375781e-05 - Rel error: 5.325379511593528e-05\n",
      "For i = 9 - Our function gives: 1.459973209079899 - Error: -0.00016589654110199525 - Rel error: 0.0001136298529796627\n",
      "For i = 10 - Our function gives: 1.4709337665966922 - Error: -0.0001939077070425288 - Rel error: 0.0001318262667197954\n",
      "For i = 11 - Our function gives: 1.4799753817101515 - Error: -0.0001610578839998933 - Rel error: 0.0001088247047824448\n",
      "For i = 12 - Our function gives: 1.4875330879828077 - Error: -0.00012200692364761068 - Rel error: 8.201963682909404e-05\n",
      "For i = 13 - Our function gives: 1.4940265699093165 - Error: 2.1343841978271882e-06 - Rel error: 1.428611940922001e-06\n",
      "For i = 14 - Our function gives: 1.4993084134251988 - Error: -0.00018044858440746658 - Rel error: 0.00012035454666410384\n"
     ]
    }
   ],
   "source": [
    "test_cordic_arctan()"
   ]
  },
  {
   "cell_type": "markdown",
   "metadata": {},
   "source": [
    "#### **Question 4**\n",
    "\n",
    "For this question, let $\\theta$ represent an acute angle in a right triangle. Let the length of the opposite side be $x$, and the length of the hypotenuse be $1$. By the Pythagorean theorem, the length of the adjacent side is $\\sqrt{1-x^2}$. We can now write $\\theta$ two different ways:\n",
    "\n",
    "$$ \\theta = \\arcsin{x} \\hspace{1cm} \\text{and} \\hspace{1cm} \\theta = \\arctan{\\frac{x}{\\sqrt{1-x^2}}}$$\n",
    "\n",
    "Hence we have:\n",
    "\n",
    "$$ \\arcsin{x} = \\arctan{\\frac{x}{\\sqrt{1-x^2}}}$$\n",
    "\n",
    "We can use this formula in a function to compute $\\arcsin{x}$."
   ]
  },
  {
   "cell_type": "code",
   "execution_count": 414,
   "metadata": {},
   "outputs": [],
   "source": [
    "def cordic_arcsin(x, n=15):\n",
    "    \n",
    "    if x == 1: return math.pi/2\n",
    "    if x == -1: return -1/2*math.pi\n",
    "\n",
    "    arctan = cordic_arctan(x/math.sqrt(1-x**2), n=15)\n",
    "\n",
    "    return arctan\n",
    "\n"
   ]
  },
  {
   "cell_type": "code",
   "execution_count": 415,
   "metadata": {},
   "outputs": [],
   "source": [
    "def test_cordic_arcsin():\n",
    "    for j in range(-10, 8):\n",
    "        i = j/10\n",
    "        asi = cordic_arcsin(i, 15)\n",
    "        asi_ = math.asin(i)\n",
    "        print(f\"For i = {i} - Our function gives: {asi} - Error: {asi - asi_} - Rel error: {abs((asi - asi_ )/ asi) if asi != 0 else 0}\")"
   ]
  },
  {
   "cell_type": "code",
   "execution_count": 416,
   "metadata": {},
   "outputs": [
    {
     "name": "stdout",
     "output_type": "stream",
     "text": [
      "For i = -1.0 - Our function gives: -1.5707963267948966 - Error: 0.0 - Rel error: 0.0\n",
      "For i = -0.9 - Our function gives: -1.1196244798494994 - Error: 0.00014503514913477566 - Rel error: 0.00012953910149791597\n",
      "For i = -0.8 - Our function gives: -0.9272439658061673 - Error: 5.125219544499515e-05 - Rel error: 5.527368991874249e-05\n",
      "For i = -0.7 - Our function gives: -0.7752011659544871 - Error: 0.0001963306562658973 - Rel error: 0.0002532641395400379\n",
      "For i = -0.6 - Our function gives: -0.6433584172103533 - Error: 0.0001426915829311204 - Rel error: 0.00022179174020888853\n",
      "For i = -0.5 - Our function gives: -0.523451281428602 - Error: 0.00014749416969694895 - Rel error: 0.0002817724875835784\n",
      "For i = -0.4 - Our function gives: -0.4114582601257054 - Error: 5.858594178265175e-05 - Rel error: 0.0001423861116915068\n",
      "For i = -0.3 - Our function gives: -0.3045403933319306 - Error: 0.00015226068346690935 - Rel error: 0.0004999687621108259\n",
      "For i = -0.2 - Our function gives: -0.20129698765934148 - Error: 6.093313098931574e-05 - Rel error: 0.0003027026469588009\n",
      "For i = -0.1 - Our function gives: -0.10016738509188884 - Error: 3.606967095837188e-08 - Rel error: 3.6009396596789727e-07\n",
      "For i = 0.0 - Our function gives: 0 - Error: 0.0 - Rel error: 0\n",
      "For i = 0.1 - Our function gives: 0.10016738509188884 - Error: -3.606967095837188e-08 - Rel error: 3.6009396596789727e-07\n",
      "For i = 0.2 - Our function gives: 0.20129698765934148 - Error: -6.093313098931574e-05 - Rel error: 0.0003027026469588009\n",
      "For i = 0.3 - Our function gives: 0.3045403933319306 - Error: -0.00015226068346690935 - Rel error: 0.0004999687621108259\n",
      "For i = 0.4 - Our function gives: 0.4114582601257054 - Error: -5.858594178265175e-05 - Rel error: 0.0001423861116915068\n",
      "For i = 0.5 - Our function gives: 0.523451281428602 - Error: -0.00014749416969694895 - Rel error: 0.0002817724875835784\n",
      "For i = 0.6 - Our function gives: 0.6433584172103533 - Error: -0.0001426915829311204 - Rel error: 0.00022179174020888853\n",
      "For i = 0.7 - Our function gives: 0.7752011659544871 - Error: -0.0001963306562658973 - Rel error: 0.0002532641395400379\n"
     ]
    }
   ],
   "source": [
    "test_cordic_arcsin()"
   ]
  }
 ],
 "metadata": {
  "kernelspec": {
   "display_name": ".venv",
   "language": "python",
   "name": "python3"
  },
  "language_info": {
   "codemirror_mode": {
    "name": "ipython",
    "version": 3
   },
   "file_extension": ".py",
   "mimetype": "text/x-python",
   "name": "python",
   "nbconvert_exporter": "python",
   "pygments_lexer": "ipython3",
   "version": "3.9.7"
  },
  "orig_nbformat": 4
 },
 "nbformat": 4,
 "nbformat_minor": 2
}
